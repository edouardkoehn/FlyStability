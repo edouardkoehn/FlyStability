{
 "cells": [
  {
   "cell_type": "code",
   "execution_count": null,
   "metadata": {},
   "outputs": [],
   "source": [
    "%load_ext autoreload\n",
    "%autoreload 2"
   ]
  },
  {
   "cell_type": "code",
   "execution_count": null,
   "metadata": {},
   "outputs": [],
   "source": [
    "import flybrain.utils as utils\n",
    "import numpy as np \n",
    "import matplotlib.pyplot as plt\n",
    "import torch\n",
    "import os\n",
    "import pandas as pd\n",
    "import seaborn as sns\n",
    "import json"
   ]
  },
  {
   "cell_type": "code",
   "execution_count": null,
   "metadata": {},
   "outputs": [],
   "source": [
    "def load_experiments(\n",
    "                    param:str,\n",
    "                     ):\n",
    "    data=[]\n",
    "    gen_path=os.path.join(utils.get_root(), 'data', 'logs','spectrum_characterization') \n",
    "    \n",
    "    model_path=f\"tanh_positive_N1000_nSample10_tSim200_dt0.1_tOns0.2_{\"_\".join(param)}\"\n",
    "    with open(os.path.join(gen_path,model_path+\"_dim.json\")) as f:\n",
    "        dim= json.load(f)\n",
    "    with open(os.path.join(gen_path,model_path+\"_entropies.json\")) as f:\n",
    "        entro= json.load(f)\n",
    "   \n",
    "    with open(os.path.join(gen_path,model_path+\"_spectrum.json\")) as f:\n",
    "        spec= json.load(f)\n",
    "   \n",
    "    \n",
    "   \n",
    "    return {'dimension':dim, 'entropy':entro, 'spec':spec}"
   ]
  },
  {
   "cell_type": "markdown",
   "metadata": {},
   "source": [
    "## Load the runs"
   ]
  },
  {
   "cell_type": "code",
   "execution_count": null,
   "metadata": {},
   "outputs": [],
   "source": [
    "weights=load_experiments(param=['weights'])\n",
    "gains=load_experiments(param=['gains'])\n",
    "shifts=load_experiments(param=['shifts'])\n",
    "gains_shifts_weigths=load_experiments(param=['weights','gains','shifts'])\n",
    "     "
   ]
  },
  {
   "cell_type": "code",
   "execution_count": null,
   "metadata": {},
   "outputs": [],
   "source": [
    "weights['entropy'].keys()"
   ]
  },
  {
   "cell_type": "markdown",
   "metadata": {},
   "source": [
    "## Plot the training logs "
   ]
  },
  {
   "cell_type": "code",
   "execution_count": null,
   "metadata": {},
   "outputs": [],
   "source": [
    "def plot_logs_trainings(dict_of_logs, \n",
    "                        axs,\n",
    "                        serie, \n",
    "                        color):\n",
    "    x_val=[1,2,4,8, 16, 32, 64, 128, 256, 512, 1024]\n",
    "    mean=[]\n",
    "    for i,key in zip (range(len(x_val)),dict_of_logs.keys()):\n",
    "        axs.scatter(np.ones(len(dict_of_logs[key]))*x_val[i],np.array(dict_of_logs[key])/1000, alpha=0.2, color=color)\n",
    "        mean.append( np.mean(dict_of_logs[key])/1000)\n",
    "    axs.plot(x_val, mean,label=serie, color=color, alpha=0.9)\n",
    "    axs.legend(fontsize=18, frameon=False)\n",
    "    "
   ]
  },
  {
   "cell_type": "code",
   "execution_count": null,
   "metadata": {},
   "outputs": [],
   "source": [
    "fig, axs = plt.subplots(1, 3, figsize=(17, 5), sharex=True, sharey=False)\n",
    "\n",
    "# Customizing subplots\n",
    "for ax in axs:\n",
    "    ax.spines[\"right\"].set_color(\"none\")\n",
    "    ax.spines[\"top\"].set_color(\"none\")\n",
    "    ax.tick_params(axis='both', which='major', labelsize=16)  # Increased tick label size\n",
    "    #ax.grid(True, which='both', linestyle='--', linewidth=0.5, alpha=0.7)  # Add gridlines\n",
    "\n",
    "# Plotting data\n",
    "plot_logs_trainings(weights['dimension'], axs[0], r'$W_{ij}\\sim N(0,\\sigma/\\sqrt{N})$', 'orange')\n",
    "plot_logs_trainings(gains['dimension'], axs[1], r'$g_{ij}\\sim N(0,\\sigma/\\sqrt{N})$', 'blue')\n",
    "plot_logs_trainings(shifts['dimension'], axs[1], r'$s_{ij}\\sim N(0,\\sigma/\\sqrt{N})$', 'red')\n",
    "plot_logs_trainings(gains_shifts_weigths['dimension'], axs[2], r'$W_{ij},s_{ij},g_{ij}\\sim N(0,\\sigma/\\sqrt{N})$', 'green')\n",
    "\n",
    "# Setting axis labels\n",
    "axs[0].set_ylabel(r\"$\\frac{D}{N}$\", fontsize=22,weight='bold')\n",
    "for ax in axs:\n",
    "    ax.set_xlabel(r\"$\\sigma$\", fontsize=22,weight='bold')\n",
    "\n",
    "# Adding titles for each subplot\n",
    "#axs[0].set_title(\"Weights\", fontsize=18)\n",
    "#axs[1].set_title(\"Gains and Shifts\", fontsize=18)\n",
    "#axs[2].set_title(\"Combined\", fontsize=18)\n",
    "\n",
    "# Customizing axis scales and limits\n",
    "axs[0].set_xscale('log')\n",
    "axs[0].set_ylim([-.01, 0.2])\n",
    "axs[1].set_ylim([-.01, 1.1])\n",
    "axs[2].set_ylim([-.01, 0.4])\n",
    "\n",
    "# Tight layout for better spacing\n",
    "plt.tight_layout()\n",
    "\n",
    "# Saving the figure\n",
    "plt.savefig('../data/fig/FINAL/0_Spectrum_Char_dim.svg', format='svg')\n",
    "plt.show()\n"
   ]
  },
  {
   "cell_type": "code",
   "execution_count": null,
   "metadata": {},
   "outputs": [],
   "source": [
    "fig, axs=plt.subplots(1,3, figsize=(17,5),sharex=True, sharey=False)\n",
    "for ax in axs:\n",
    "    ax.spines[\"right\"].set_color(\"none\")\n",
    "    ax.spines[\"top\"].set_color(\"none\")\n",
    "\n",
    "plot_logs_trainings(weights['entropy'],axs[0], r'$W_{ij}\\sim N(0,\\sigma/\\sqrt{N})$', 'orange' )\n",
    "plot_logs_trainings(gains['entropy'],axs[1], r'$g_{ij}\\sim N(0,\\sigma/\\sqrt{N})$', 'blue' )\n",
    "plot_logs_trainings(shifts['entropy'],axs[1], r'$s_{ij}\\sim N(0,\\sigma/\\sqrt{N})$', 'red' )\n",
    "plot_logs_trainings(gains_shifts_weigths['entropy'],axs[2], r'$W_{ij},s_{ij},g_{ij}\\sim N(0,\\sigma/\\sqrt{N})$', 'green' )\n",
    "\n",
    "axs[0].set_ylabel(r\"$\\frac{E}{N}$\",fontsize=14)\n",
    "axs[0].set_xlabel(r\"$\\sigma$\",fontsize=14)\n",
    "axs[1].set_xlabel(r\"$\\sigma$\",fontsize=14)\n",
    "axs[2].set_xlabel(r\"$\\sigma$\",fontsize=14)\n",
    "\n",
    "axs[0].tick_params(axis='both', which='major', labelsize=12)\n",
    "axs[0].set_xscale('log')\n",
    "#axs[0].set_yscale('log')\n",
    "#axs[0].set_ylim([0,200])\n",
    "#axs[2].set_yscale('log')\n",
    "axs[0].set_ylim([-.01,0.20])\n",
    "axs[1].set_ylim([-.1,5])\n",
    "axs[2].set_ylim([-.01,0.20])\n",
    "plt.tight_layout()\n",
    "plt.savefig('../data/fig/FINAL/0_Spectrum_Char_entropy.svg')\n",
    "plt.show()"
   ]
  },
  {
   "cell_type": "code",
   "execution_count": null,
   "metadata": {},
   "outputs": [],
   "source": [
    "def plot_logs_spectrum(dict_of_logs, \n",
    "                        axs,\n",
    "                        serie, \n",
    "                        colorMap):\n",
    "   \n",
    "    cmap = plt.get_cmap(colorMap)\n",
    "    colors_2 = [cmap(i / (12 - 1)) for i in range(13)]\n",
    "    \n",
    "    x_val=[1,2,4,8, 16, 32, 64, 128, 256, 512, 1024]\n",
    "    choosen=[1,2,4,8, 16, 32, 64, 128, 256, 512, 1024]\n",
    "    \n",
    "    mean=[]\n",
    "    for i,key in zip (range(len(choosen)),choosen):\n",
    "        g_mean=[]\n",
    "        for sample in dict_of_logs[f'{key}']:\n",
    "            axs.plot(np.linspace(0,100,1000),sample,alpha=0.1, color=colors_2[i+1],lw=1)\n",
    "            g_mean.append(sample)\n",
    "        \n",
    "        mean.append( np.mean(np.array(g_mean), axis=0))\n",
    "        if (key==1 )|(key ==1024):\n",
    "            axs.plot(np.linspace(0,100,1000), mean[-1], color=colors_2[i+2], alpha=0.8, label=r'$\\sigma$:'+f\" {key}\",lw=2)\n",
    "        else :\n",
    "            axs.plot(np.linspace(0,100,1000), mean[-1], color=colors_2[i+2], alpha=0.8)\n",
    "    axs.legend(fontsize=18, frameon=False)\n",
    "   \n",
    "    axs.hlines(y=0,xmin=0, xmax=100, ls='--', color='black' ,lw=2, alpha=0.5)\n",
    "    "
   ]
  },
  {
   "cell_type": "code",
   "execution_count": null,
   "metadata": {},
   "outputs": [],
   "source": [
    "fig, axs=plt.subplots(1,3, figsize=(17,5),sharex=True, sharey=True)\n",
    "for ax in axs:\n",
    "    ax.spines[\"right\"].set_color(\"none\")\n",
    "    ax.spines[\"top\"].set_color(\"none\")\n",
    "    ax.tick_params(axis='both', which='major', labelsize=16)  # Increased tick label size\n",
    "    #ax.grid(True, which='both', linestyle='--', linewidth=0.5, alpha=0.7)  # Add gridlines\n",
    "\n",
    "plot_logs_spectrum(weights['spec'],axs[0], r'$W_{ij}\\sim N(0,\\sigma/\\sqrt{N})$', 'Oranges' )\n",
    "plot_logs_spectrum(gains['spec'],axs[1], r'$W_{ij}\\sim N(0,\\sigma/\\sqrt{N})$', 'Blues' )\n",
    "plot_logs_spectrum(gains_shifts_weigths['spec'],axs[2], r'$W_{ij}\\sim N(0,\\sigma/\\sqrt{N})$', 'Greens' )\n",
    "axs[0].set_ylabel(r\"$\\lambda_i$\",fontsize=22, weight='bold')\n",
    "axs[0].set_xlabel(r\"$i$\",fontsize=22,weight='bold')\n",
    "axs[1].set_xlabel(r\"$i$\",fontsize=22,weight='bold')\n",
    "axs[2].set_xlabel(r\"$i$\",fontsize=22,weight='bold')\n",
    "\n",
    "axs[0].tick_params(axis='both', which='major', labelsize=16)\n",
    "\n",
    "#axs[0].set_yscale('log')\n",
    "axs[0].set_ylim([-5,4])\n",
    "#axs[2].set_yscale('log')\n",
    "plt.tight_layout()\n",
    "plt.savefig('../data/fig/FINAL/0_Spectrum_Char_spectrum.svg')\n",
    "plt.show()"
   ]
  },
  {
   "cell_type": "code",
   "execution_count": null,
   "metadata": {},
   "outputs": [],
   "source": []
  }
 ],
 "metadata": {
  "kernelspec": {
   "display_name": "fly",
   "language": "python",
   "name": "python3"
  },
  "language_info": {
   "codemirror_mode": {
    "name": "ipython",
    "version": 3
   },
   "file_extension": ".py",
   "mimetype": "text/x-python",
   "name": "python",
   "nbconvert_exporter": "python",
   "pygments_lexer": "ipython3",
   "version": "3.12.7"
  }
 },
 "nbformat": 4,
 "nbformat_minor": 2
}
